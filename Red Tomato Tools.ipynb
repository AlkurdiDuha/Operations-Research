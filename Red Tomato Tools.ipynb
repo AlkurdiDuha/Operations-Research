{
  "nbformat": 4,
  "nbformat_minor": 0,
  "metadata": {
    "colab": {
      "provenance": []
    },
    "kernelspec": {
      "name": "python3",
      "display_name": "Python 3"
    },
    "language_info": {
      "name": "python"
    }
  },
  "cells": [
    {
      "cell_type": "markdown",
      "metadata": {
        "id": "N2FvHjGHej8x"
      },
      "source": [
        "#Operations Research, IE33150\n",
        "#**Case: “Red Tomato Tools”**\n",
        "\n",
        "\n",
        "##Parametrs Definition\n",
        "* $T$: The set of months planning horizon , \\{\"January\", \"Febreuary\", \"March\",\"April\",\"May\", \"June\"\\}\n",
        "* $D_t \\equiv $  Demand forecast in each period  $t$, $t\\in T$.\n",
        "* $MC \\equiv $ Materials cost per unit  \\$ / unit.\n",
        "* $IHC \\equiv $ The inventory holding cost in  \\$ / unit/month.\n",
        "* $MCS \\equiv $ The marginal cost of stock out \\$ / unit/month. **In cost accounting, stockout costs represent what you lose when an item is out of stock.**\n",
        "* $HTC \\equiv $ The hiring and training costs in  \\$ / worker.\n",
        "* $LOC \\equiv $ The layoff cost in  \\$ / worker.**Layoffs typically mean companies have to pay severance costs, which vary widely by occupation and industry.**\n",
        "* $LH \\equiv $ The labour hours required to produce one unit in   Hrs/ unit.\n",
        "* $RC \\equiv $ The regular time cost in  \\$ / hour.\n",
        "* $OC \\equiv $ The over time cost in  \\$ / hour.\n",
        "* $SC \\equiv $ The sub contracting cost in  \\$ / unit.\n",
        "\n",
        "\n",
        "\n",
        "##Decison Variables\n",
        "\\begin{align*}\n",
        "    W_{t} & \\equiv \\text {Workforce size for month t} \\\\\n",
        "    H_{t} & \\equiv \\text {Number of employees hired at the begining of month t} \\\\\n",
        "    L_{t} & \\equiv \\text {Number of employees laid off at the begining of month t} \\\\\n",
        "    P_{t} & \\equiv \\text {Number of units produced in month t, Production in month t} \\\\\n",
        "    I_{t} & \\equiv \\text {Inventory at the end of month t} \\\\\n",
        "    S_{t} & \\equiv \\text {Number of units stocked out at the end of month t } \\\\\n",
        "    C_{t} & \\equiv \\text {Number of units subcontarcted for month t} \\\\\n",
        "    O_{t} & \\equiv \\text {Number of overtime hours  worked in month t} \\\\  \n",
        "\\end{align*}\n",
        "\n",
        "##Linear Programme\n",
        "We have been asked to minimize the total cost, total cost includes:\n",
        "* Workforce payment costs.(Working days in each month* Working hours in each day * RC)\n",
        "* Hiring & training costs.\n",
        "* Downsizing costs (Lay off costs).\n",
        "* Overtime costs.\n",
        "* Inventory costs.\n",
        "* Stock-out costs.\n",
        "* Production costs\n",
        "* Subcontracting costs.\n",
        "\\begin{align*}\n",
        "    \\min \\hspace{10pt} & \\sum_{t \\in T}(20*8*RC) W_t + \\sum_{t \\in T}(HTC) H_t + \\sum_{t \\in T}(LOC)L_t +\\sum_{t \\in T}(OC) O_t +\\sum_{t \\in T}(IHC) I_t  +\\sum_{t \\in T}(MCS) S_t + \\sum_{t \\in T}(MC) P_t + \\sum_{t \\in T}(SC) C_t  \\\\\n",
        "    \\text{s.t.} \\hspace{7pt}\n",
        "    & W_t= W_{t-1} + H_t - L_t & \\forall t \\in T\\\\\n",
        "    & P_t \\le \\frac {(20*8)}{LH} W_{t} +\\frac {O_t}{LH } & \\forall t \\in T\\\\\n",
        "    & I_{t-1} + P_t +C_t= D_t + S_{t-1} + I_t -S_t & \\forall t \\in T\\\\\n",
        "    & O_t \\le (10)W_t & \\forall t \\in T\\\\\n",
        "    & W_0= 80\\\\\n",
        "    & I_0= 1000\\\\\n",
        "    & S_0= 0\\\\\n",
        "    & S_6= 0\\\\\n",
        "    & I_6\\ge 500\\\\\n",
        "    & W_{t}, H_{t}, L_{t}, P_{t}, I_{t}, S_{t}, C_{t}, O_{t}\\ge 0 & \\forall t \\in T\\\\\n",
        "  \\end{align*}\n",
        "\n"
      ]
    },
    {
      "cell_type": "markdown",
      "metadata": {
        "id": "ya82bVoLAeNm"
      },
      "source": [
        "# Constarints Explanation\n",
        "**First Constraint:** Balance of workers constarints, number of workers employed at the end of a particular month is equal to the number of workers employed at the begining of the successive month.\n",
        "Only hiring and layoff processes are responsible for changing the number of workers at a certain month.\\\n",
        "**Second Constraint:** Not to exceeed the predifined production limit,production for each month can not exceed the capacity , remember each one unit neeeds 4 hours to be produced, thus the total number of units that can be produced is equal to the available working hours devided by 4.\n",
        "Available working hours, (20*8* Number of workers) for the regular time and ($O_t$) for the overtime.\\\n",
        "**Third Constraint:** Inventory balance constraints, All units that we have in hand at the begining of month t plus all what we produce/receive in  that specific month should be equal to what customers get (either as that month demand or previous month stockout) plus what remains as invetory and what we decide not to deliver. \\\n",
        "**Fourth Constraint:** Overtime limit, no employee works more than 10 hours of overtime per month.\\\n",
        "**Fifth,Sixth & Seventh Constraints:**Initial Conditions.\\\n",
        "**Eighth & ninth Constraints:** Final Conditions.\\\n",
        "**Tenth Constraint:** Non-Negativity Constraints.\n",
        "\n",
        "\n",
        "\n",
        "\n"
      ]
    },
    {
      "cell_type": "code",
      "metadata": {
        "colab": {
          "base_uri": "https://localhost:8080/"
        },
        "id": "Z2Z1nBHxFQOE",
        "outputId": "09d7e2b5-e2a9-4537-c3ac-faaa3fc6bda0"
      },
      "source": [
        "!pip install cplex\n",
        "!pip install docplex"
      ],
      "execution_count": null,
      "outputs": [
        {
          "output_type": "stream",
          "text": [
            "Collecting cplex\n",
            "\u001b[?25l  Downloading https://files.pythonhosted.org/packages/85/9a/582da8fe452a29dc1a2ad01ac2a92c8407a0255889dce08c2cd1471abcbb/cplex-20.1.0.1-cp37-cp37m-manylinux1_x86_64.whl (30.9MB)\n",
            "\u001b[K     |████████████████████████████████| 30.9MB 147kB/s \n",
            "\u001b[?25hInstalling collected packages: cplex\n",
            "Successfully installed cplex-20.1.0.1\n",
            "Collecting docplex\n",
            "\u001b[?25l  Downloading https://files.pythonhosted.org/packages/87/99/6f7c219b39fd58c84688ad0713eb932bfcf6be81fc74519e43ea9c915b56/docplex-2.20.204.tar.gz (611kB)\n",
            "\u001b[K     |████████████████████████████████| 614kB 4.1MB/s \n",
            "\u001b[?25hRequirement already satisfied: requests in /usr/local/lib/python3.7/dist-packages (from docplex) (2.23.0)\n",
            "Requirement already satisfied: six in /usr/local/lib/python3.7/dist-packages (from docplex) (1.15.0)\n",
            "Requirement already satisfied: urllib3!=1.25.0,!=1.25.1,<1.26,>=1.21.1 in /usr/local/lib/python3.7/dist-packages (from requests->docplex) (1.24.3)\n",
            "Requirement already satisfied: certifi>=2017.4.17 in /usr/local/lib/python3.7/dist-packages (from requests->docplex) (2020.12.5)\n",
            "Requirement already satisfied: idna<3,>=2.5 in /usr/local/lib/python3.7/dist-packages (from requests->docplex) (2.10)\n",
            "Requirement already satisfied: chardet<4,>=3.0.2 in /usr/local/lib/python3.7/dist-packages (from requests->docplex) (3.0.4)\n",
            "Building wheels for collected packages: docplex\n",
            "  Building wheel for docplex (setup.py) ... \u001b[?25l\u001b[?25hdone\n",
            "  Created wheel for docplex: filename=docplex-2.20.204-cp37-none-any.whl size=675362 sha256=994ea94ada9e8e412c4203d6b94a7596ec55bd094a564c5a6e27cd7ff0df17f6\n",
            "  Stored in directory: /root/.cache/pip/wheels/ae/2c/e2/a099ebb6fda8adeba9c5fc2e25659d195ad2f5c6cc5fb75fd4\n",
            "Successfully built docplex\n",
            "Installing collected packages: docplex\n",
            "Successfully installed docplex-2.20.204\n"
          ],
          "name": "stdout"
        }
      ]
    },
    {
      "cell_type": "code",
      "metadata": {
        "id": "fSpeM5S7FQ98"
      },
      "source": [
        "# First impot the Model class from docplex.mp\n",
        "from docplex.mp.model import Model"
      ],
      "execution_count": null,
      "outputs": []
    },
    {
      "cell_type": "code",
      "metadata": {
        "id": "uiT9b_7SFTZ0"
      },
      "source": [
        "# Create one model instance, with a name\n",
        "m = Model (name=\"Red Tomato Tools_Case Study\")"
      ],
      "execution_count": null,
      "outputs": []
    },
    {
      "cell_type": "code",
      "metadata": {
        "id": "WBRRl5tWFaQM"
      },
      "source": [
        "# Defining the parametrs of the problem statement\n",
        "Months = [1,2,3,4,5,6]\n",
        "Demand_Forecast= {1: 1600,\n",
        "                  2: 3000,\n",
        "                  3: 3200,\n",
        "                  4: 3800,\n",
        "                  5: 2200,\n",
        "                  6: 220} #This value has been updated\n",
        "\n",
        "# Parameters Table 2, Costs for Red Tomato.\n",
        "MC  = 10\n",
        "IHC = 8  #This value has been updated\n",
        "MCS = 15  #This value has been updated\n",
        "HTC = 300\n",
        "LOC = 500\n",
        "LH  = 4\n",
        "RC  = 4\n",
        "OC  = 6\n",
        "SC  = 30\n",
        "\n"
      ],
      "execution_count": null,
      "outputs": []
    },
    {
      "cell_type": "code",
      "metadata": {
        "id": "HQZ_8Za6HPCQ"
      },
      "source": [
        "# Defining the decison variabels of the problem\n",
        "W_t = m.integer_var_dict(range (0,7),lb=0,ub=None,name=\" Workforce Size Per Month %s\")\n",
        "H_t = m.integer_var_dict(Months,lb=0,ub=None,name=\" Number of employees hired at the begining of Month %s\")\n",
        "L_t = m.integer_var_dict(Months,lb=0,ub=None,name=\" Number of employees laid off at the begining of Month %s\")\n",
        "P_t = m.integer_var_dict(Months,lb=0,ub=None,name=\" Number of units produced during  Month %s\")\n",
        "I_t = m.integer_var_dict(range (0,7),lb=0,ub=None,name=\" Inventory at the end of Month %s\")\n",
        "S_t = m.integer_var_dict(range (0,7),lb=0,ub=None,name=\" Number of units stocked out at the end of Month %s\")\n",
        "C_t = m.integer_var_dict(Months,lb=0,ub=None,name=\" Number of units subcontracted for Month %s\")\n",
        "O_t = m.continuous_var_dict(Months,lb=0,ub=None,name=\" Number of overtime hours worked in month %s\")"
      ],
      "execution_count": null,
      "outputs": []
    },
    {
      "cell_type": "code",
      "metadata": {
        "id": "3JtGo1fGJDjD",
        "colab": {
          "base_uri": "https://localhost:8080/",
          "height": 70
        },
        "outputId": "9c65887a-9163-4e67-e037-7c8bbc3fb495"
      },
      "source": [
        "# Defining the objective function of the problem\n",
        "# Option (1): minimizing the total cost incurred, this way the objective value will be equal to 422660.000\n",
        "\n",
        "\"\"\"m.minimize (m.sum((20*8*RC) *W_t[i]for i in Months) + m.sum((HTC) *H_t[i]for i in Months) +\\\n",
        "            m.sum((LOC) *L_t[i]for i in Months)+ m.sum((OC) *O_t[i]for i in Months) +\\\n",
        "            m.sum((IHC) *I_t[i]for i in Months) + m.sum((MCS) *S_t[i]for i in Months)+\\\n",
        "            m.sum((MC)  *P_t[i]for i in Months) +m.sum((SC) *C_t[i]for i in Months))\"\"\"\n",
        "\n"
      ],
      "execution_count": null,
      "outputs": [
        {
          "output_type": "execute_result",
          "data": {
            "application/vnd.google.colaboratory.intrinsic+json": {
              "type": "string"
            },
            "text/plain": [
              "'m.minimize (m.sum((20*8*RC) *W_t[i]for i in Months) + m.sum((HTC) *H_t[i]for i in Months) +            m.sum((LOC) *L_t[i]for i in Months)+ m.sum((OC) *O_t[i]for i in Months) +            m.sum((IHC) *I_t[i]for i in Months) + m.sum((MCS) *S_t[i]for i in Months)+            m.sum((MC)  *P_t[i]for i in Months) +m.sum((SC) *C_t[i]for i in Months))'"
            ]
          },
          "metadata": {
            "tags": []
          },
          "execution_count": 6
        }
      ]
    },
    {
      "cell_type": "code",
      "metadata": {
        "id": "n6J_zbgOvcz3"
      },
      "source": [
        "# Another technique can be used, by which an expressionn will be created to calculte each cost seperatley\n",
        "Regular_Time_Labour_Cost= m.sum((20*8*RC) *W_t[i]for i in Months)\n",
        "Hiring_Training_Cost= m.sum((HTC) *H_t[i]for i in Months)\n",
        "Downsizing_Cost=  m.sum((LOC) *L_t[i]for i in Months)\n",
        "Over_Time_Labour_Cost= m.sum((OC) *O_t[i]for i in Months)\n",
        "Inventory_Holding_Cost= m.sum((IHC) *I_t[i]for i in Months)\n",
        "Material_Cost= m.sum((MCS) *S_t[i]for i in Months)\n",
        "Production_Cost= m.sum((MC)  *P_t[i]for i in Months)\n",
        "Subcontracting_Cost= m.sum((SC) *C_t[i]for i in Months)"
      ],
      "execution_count": null,
      "outputs": []
    },
    {
      "cell_type": "code",
      "metadata": {
        "id": "S1APYDOdy01m"
      },
      "source": [
        "\n",
        "m.minimize(Regular_Time_Labour_Cost+Hiring_Training_Cost+Downsizing_Cost+Over_Time_Labour_Cost+\\\n",
        "           Inventory_Holding_Cost+Material_Cost+Production_Cost+Subcontracting_Cost)"
      ],
      "execution_count": null,
      "outputs": []
    },
    {
      "cell_type": "code",
      "metadata": {
        "id": "7r-HRU3DSIMV",
        "colab": {
          "base_uri": "https://localhost:8080/",
          "height": 70
        },
        "outputId": "a3e3f34a-ce30-4cfe-8983-2ab5e65c4c20"
      },
      "source": [
        "\n",
        "# Option (2): maximizing the net profit (Revenue - Cost), this way the objective value will be equal to 217340.000\n",
        "# The two optiions will give the exact same values for the decsion variabels at optimality.\n",
        "\"\"\"m.maximize(m.sum(Demand_Forecast.values() )*40 -(m.sum((20*8*RC) *W_t[i]for i in Months) + m.sum((HTC) *H_t[i]for i in Months) +\\\n",
        "            m.sum((LOC) *L_t[i]for i in Months)+ m.sum((OC) *O_t[i]for i in Months) +\\\n",
        "            m.sum((IHC) *I_t[i]for i in Months) + m.sum((MCS) *S_t[i]for i in Months)+\\\n",
        "            m.sum((MC)  *P_t[i]for i in Months) +m.sum((SC) *C_t[i]for i in Months)))\"\"\"\n"
      ],
      "execution_count": null,
      "outputs": [
        {
          "output_type": "execute_result",
          "data": {
            "application/vnd.google.colaboratory.intrinsic+json": {
              "type": "string"
            },
            "text/plain": [
              "'m.maximize(m.sum(Demand_Forecast.values() )*40 -(m.sum((20*8*RC) *W_t[i]for i in Months) + m.sum((HTC) *H_t[i]for i in Months) +            m.sum((LOC) *L_t[i]for i in Months)+ m.sum((OC) *O_t[i]for i in Months) +            m.sum((IHC) *I_t[i]for i in Months) + m.sum((MCS) *S_t[i]for i in Months)+            m.sum((MC)  *P_t[i]for i in Months) +m.sum((SC) *C_t[i]for i in Months)))'"
            ]
          },
          "metadata": {
            "tags": []
          },
          "execution_count": 9
        }
      ]
    },
    {
      "cell_type": "code",
      "metadata": {
        "id": "s61DdzzcKUyt"
      },
      "source": [
        "# Defining the constraints of the problem\n",
        "\n",
        "# Balance of Workers\n",
        "m.add_constraints_(W_t [i] == W_t[i-1]+ H_t [i] - L_t [i]for i in Months)\n",
        "\n",
        "# Production Limit Constraints\n",
        "m.add_constraints_(P_t [i] <= ((20*8)*W_t[i]/(LH))+ (O_t[i]/LH) for i in Months)\n",
        "\n",
        "# Balance of Inventory\n",
        "m.add_constraints_(I_t [i-1] + P_t [i] + C_t [i]  == Demand_Forecast[i]+ S_t [i-1] + I_t [i] - S_t[i]for i in Months)\n",
        "\n",
        "# Overtime Limit\n",
        "m.add_constraints_(O_t [i] <= (10)* W_t[i] for i in Months)\n",
        "\n",
        "# Initial Conditions Constraints\n",
        "m.add_constraint_(W_t[0]== 80)\n",
        "m.add_constraint_(I_t[0]== 1000)\n",
        "m.add_constraint_(S_t[0]== 0)\n",
        "\n",
        "# Final Conditions Constarints\n",
        "m.add_constraint_(S_t[6]== 0)\n",
        "m.add_constraint_(I_t[6]>= 500)\n",
        "\n"
      ],
      "execution_count": null,
      "outputs": []
    },
    {
      "cell_type": "code",
      "metadata": {
        "colab": {
          "base_uri": "https://localhost:8080/"
        },
        "id": "v2cQXxaeNZJu",
        "outputId": "52abfda2-2f38-41b1-8b27-ac473ce5d779"
      },
      "source": [
        "# Print the model information\n",
        "m.print_information()"
      ],
      "execution_count": null,
      "outputs": [
        {
          "output_type": "stream",
          "text": [
            "Model: Red Tomato Tools_Case Study\n",
            " - number of variables: 51\n",
            "   - binary=0, integer=45, continuous=6\n",
            " - number of constraints: 29\n",
            "   - linear=29\n",
            " - parameters: defaults\n",
            " - objective: minimize\n",
            " - problem type is: MILP\n"
          ],
          "name": "stdout"
        }
      ]
    },
    {
      "cell_type": "code",
      "metadata": {
        "colab": {
          "base_uri": "https://localhost:8080/"
        },
        "id": "EWNgCb5nNb_W",
        "outputId": "d7b01885-71aa-4422-e739-35fa29112f5d"
      },
      "source": [
        "m.solve (log_output =True)\n",
        "\n",
        "print (m.solve_details.status)\n",
        "\n",
        "m.print_solution()"
      ],
      "execution_count": null,
      "outputs": [
        {
          "output_type": "stream",
          "text": [
            "Version identifier: 20.1.0.0 | 2020-11-11 | 9bedb6d68\n",
            "CPXPARAM_Read_DataCheck                          1\n",
            "Found incumbent of value 801760.000000 after 0.00 sec. (0.01 ticks)\n",
            "Tried aggregator 1 time.\n",
            "MIP Presolve eliminated 6 rows and 5 columns.\n",
            "MIP Presolve added 12 rows and 12 columns.\n",
            "Reduced MIP has 35 rows, 58 columns, and 119 nonzeros.\n",
            "Reduced MIP has 0 binaries, 52 generals, 0 SOSs, and 0 indicators.\n",
            "Presolve time = 0.01 sec. (0.05 ticks)\n",
            "Tried aggregator 1 time.\n",
            "Detecting symmetries...\n",
            "MIP Presolve eliminated 12 rows and 12 columns.\n",
            "MIP Presolve added 12 rows and 12 columns.\n",
            "Reduced MIP has 35 rows, 58 columns, and 119 nonzeros.\n",
            "Reduced MIP has 0 binaries, 52 generals, 0 SOSs, and 0 indicators.\n",
            "Presolve time = 0.01 sec. (0.07 ticks)\n",
            "MIP emphasis: balance optimality and feasibility.\n",
            "MIP search method: dynamic search.\n",
            "Parallel mode: deterministic, using up to 2 threads.\n",
            "Root relaxation solution time = 0.00 sec. (0.10 ticks)\n",
            "\n",
            "        Nodes                                         Cuts/\n",
            "   Node  Left     Objective  IInf  Best Integer    Best Bound    ItCnt     Gap\n",
            "\n",
            "*     0+    0                       801760.0000     4000.0000            99.50%\n",
            "*     0+    0                       771620.0000     4000.0000            99.48%\n",
            "*     0     0      integral     0   410720.0000   410720.0000       26    0.00%\n",
            "Elapsed time = 0.06 sec. (0.29 ticks, tree = 0.00 MB, solutions = 3)\n",
            "\n",
            "Root node processing (before b&c):\n",
            "  Real time             =    0.06 sec. (0.30 ticks)\n",
            "Parallel b&c, 2 threads:\n",
            "  Real time             =    0.00 sec. (0.00 ticks)\n",
            "  Sync time (average)   =    0.00 sec.\n",
            "  Wait time (average)   =    0.00 sec.\n",
            "                          ------------\n",
            "Total (root+branch&cut) =    0.06 sec. (0.30 ticks)\n",
            "integer optimal solution\n",
            "objective: 410720.000\n",
            "  \" Workforce Size Per Month 0\"=80\n",
            "  \" Workforce Size Per Month 1\"=45\n",
            "  \" Workforce Size Per Month 2\"=45\n",
            "  \" Workforce Size Per Month 3\"=45\n",
            "  \" Workforce Size Per Month 4\"=45\n",
            "  \" Workforce Size Per Month 5\"=45\n",
            "  \" Workforce Size Per Month 6\"=28\n",
            "  \" Number of employees laid off at the begining of Month 1\"=35\n",
            "  \" Number of employees laid off at the begining of Month 6\"=17\n",
            "  \" Number of units produced during  Month 1\"=1800\n",
            "  \" Number of units produced during  Month 2\"=1800\n",
            "  \" Number of units produced during  Month 3\"=1800\n",
            "  \" Number of units produced during  Month 4\"=1800\n",
            "  \" Number of units produced during  Month 5\"=1800\n",
            "  \" Number of units produced during  Month 6\"=1120\n",
            "  \" Inventory at the end of Month 0\"=1000\n",
            "  \" Inventory at the end of Month 1\"=1200\n",
            "  \" Inventory at the end of Month 6\"=500\n",
            "  \" Number of units stocked out at the end of Month 5\"=400\n",
            "  \" Number of units subcontracted for Month 3\"=1400\n",
            "  \" Number of units subcontracted for Month 4\"=2000\n"
          ],
          "name": "stdout"
        }
      ]
    }
  ]
}
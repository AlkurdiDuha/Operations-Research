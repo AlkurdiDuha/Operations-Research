{
  "cells": [
    {
      "cell_type": "markdown",
      "source": [
        "### Parameters Definition:\n",
        "\n",
        "$ I \\equiv $ Set of products, $\\{1,2,3,4,5\\}$.\n",
        "\n",
        "$ J \\equiv $ Set of production lines, $\\{1,2,3,4\\}$.\n",
        "\n",
        "$ K \\equiv $ Set of workstations within each production line, $\\{1,2,3,4\\}$.\n",
        "\n",
        "$ t_{ijk} \\equiv $ Time in minutes to produce one unit of product $i$ on workstation $k$ of line $j$, $i \\in I$, $j \\in J$, $k \\in K$.\n",
        "\n",
        "$ c_{jk} \\equiv $ Cost of one hour (in dollars) for each workstation $k$ within each production line $j$, $j \\in J$, $k \\in K$.\n",
        "\n",
        "$ u_{ijk} \\equiv $ Maximum production limit (in hours) for each workstation $k$ within each production line $j$, $j \\in J$, $k \\in K$.\n",
        "\n",
        "$ f_{ij} \\equiv $ Fixed setup cost incurred when choosing to produce product type $i$ on production line $j$, $i \\in I$, $j \\in J$.\n",
        "\n",
        "$ d_i \\equiv $ Minimum production requirement (demand) for product model $i$, $i \\in I$.\n",
        "\n",
        "$ s_i \\equiv $ Selling price (in dollars) for each unit of product $i$, $i \\in I$.\n",
        "\n",
        "## Decision Variables\n",
        "\n",
        "\\begin{align*}\n",
        "    x_{ij} & \\equiv \\text{Number of units of product } i \\text{ to be produced in line } j, \\quad i \\in I, j \\in J \\\\  \n",
        "    y_{ij} & \\equiv \\text{Whether product } i \\text{ will be produced in line } j, \\quad i \\in I, j \\in J \\\\  \n",
        "\\end{align*}\n",
        "\n",
        "\n",
        "\\begin{cases}\n",
        "1 & \\text{if } x_{ij} > 0 \\\\\n",
        "0 & \\text{otherwise}\n",
        "\\end{cases}\n",
        "\n",
        "---\n",
        "\n",
        "## Linear Program\n",
        "\n",
        "We aim to maximize the profit, which considers:\n",
        "\n",
        "* Revenue from selling the products.\n",
        "* Cost of production, calculated based on the workstation cost.\n",
        "* Fixed setup cost for choosing to produce a product in a specific production line.\n",
        "\n",
        "\\begin{align*}\n",
        "    \\max \\quad & \\sum_{i \\in I} \\sum_{j \\in J} s_i x_{ij} - \\sum_{i \\in I} \\left( \\frac{\\sum_{j \\in J} \\sum_{k \\in K} c_{jk} t_{ijk}}{60} \\right) x_{ij} - \\sum_{i \\in I} \\sum_{j \\in J} y_{ij} f_{ij}  \n",
        "\\end{align*}\n",
        "\n",
        "### Subject to:\n",
        "\n",
        "\\begin{align*}\n",
        "    & \\sum_{i \\in I} x_{ij} t_{ijk} \\leq (60) u_{jk}  & \\forall j \\in J, \\forall k \\in K \\\\  \n",
        "    & \\sum_{j \\in J} x_{ij} = d_i  & \\forall i \\in I \\\\  \n",
        "    & x_{ij} \\leq y_{ij} \\left( \\frac{\\sum_{k \\in K} 60 u_{jk}}{\\sum_{k \\in K} t_{ijk}} \\right) & \\forall i \\in I, \\forall j \\in J \\\\  \n",
        "    & \\sum_{i \\in I} y_{ij} \\geq 1  & \\forall j \\in J \\\\  \n",
        "    & x_{ij} \\leq M y_{ij}  & \\forall i \\in I, j \\in J \\\\  \n",
        "    & x_{ij} \\geq 0, \\text{ integer}  & \\forall i \\in I, j \\in J \\\\  \n",
        "    & y_{ij} \\text{ binary}  & \\forall i \\in I, j \\in J  \n",
        "\\end{align*}\n",
        "\n",
        "\n"
      ],
      "metadata": {
        "id": "BgYkVHX1pf8B"
      }
    },
    {
      "cell_type": "code",
      "execution_count": null,
      "metadata": {
        "colab": {
          "background_save": true,
          "base_uri": "https://localhost:8080/"
        },
        "id": "dZcdJ0VvuMaQ",
        "outputId": "54eaf166-b81d-42ff-d0de-8dc5285c5be1"
      },
      "outputs": [
        {
          "name": "stdout",
          "output_type": "stream",
          "text": [
            "Collecting cplex\n",
            "  Downloading cplex-20.1.0.2-cp37-cp37m-manylinux1_x86_64.whl (30.9 MB)\n",
            "\u001b[K     |████████████████████████████████| 30.9 MB 57.0 MB/s \n",
            "\u001b[?25hInstalling collected packages: cplex\n",
            "Successfully installed cplex-20.1.0.2\n",
            "Collecting docplex\n",
            "  Downloading docplex-2.22.213.tar.gz (634 kB)\n",
            "\u001b[K     |████████████████████████████████| 634 kB 5.1 MB/s \n",
            "\u001b[?25hRequirement already satisfied: six in /usr/local/lib/python3.7/dist-packages (from docplex) (1.15.0)\n",
            "Building wheels for collected packages: docplex\n",
            "  Building wheel for docplex (setup.py) ... \u001b[?25l\u001b[?25hdone\n",
            "  Created wheel for docplex: filename=docplex-2.22.213-py3-none-any.whl size=696882 sha256=b152e6c29f172350b59c18fd4930e754b63cf7dde78a8d23bc97058cf2501547\n",
            "  Stored in directory: /root/.cache/pip/wheels/90/69/6b/1375c68a5b7ff94c40263b151c86f58bd72200bf0c465b5ba3\n",
            "Successfully built docplex\n",
            "Installing collected packages: docplex\n",
            "Successfully installed docplex-2.22.213\n"
          ]
        }
      ],
      "source": [
        "# To call optimization library\n",
        "!pip install cplex\n",
        "!pip install docplex"
      ]
    },
    {
      "cell_type": "code",
      "execution_count": null,
      "metadata": {
        "colab": {
          "background_save": true
        },
        "id": "VX436_8UuQwY"
      },
      "outputs": [],
      "source": [
        "# Creating one model instance, with a name\n",
        "from docplex.mp.model import Model\n",
        "\n",
        "m = Model (name=\"OR_Lab_Final_Exam_Form_1\")"
      ]
    },
    {
      "cell_type": "code",
      "execution_count": null,
      "metadata": {
        "colab": {
          "background_save": true
        },
        "id": "2QSJLxGIuWCB"
      },
      "outputs": [],
      "source": [
        "# products_Data= {\"Product_Type\":[Selling_Price, Demand,{\"Production_Line_Num\":Setup_Cost}]}\n",
        "Products_Data = {\"Product_1\":[12,40,{\"Line_1\":70,\"Line_2\":25,\"Line_3\":50,\"Line_4\":40}],\n",
        "                 \"Product_2\":[20,160,{\"Line_1\":80,\"Line_2\":75,\"Line_3\":60,\"Line_4\":25}],\n",
        "                 \"Product_3\":[15,80,{\"Line_1\":50,\"Line_2\":35,\"Line_3\":30,\"Line_4\":35}],\n",
        "                 \"Product_4\":[18,95,{\"Line_1\":60,\"Line_2\":30,\"Line_3\":20,\"Line_4\":40}],\n",
        "                 \"Product_5\":[10,10,{\"Line_1\":45,\"Line_2\":70,\"Line_3\":40,\"Line_4\":35}]}\n",
        "\n",
        "# Lines_Data= {\"Production_Line_Num\": {\"Workstation_Num\":[ Max_Working_Limit,Hourly_Cost]}}\n",
        "#Lines_Data = {\"Line_1\":{\"WS_1\":[8,12],\"WS_2\":[5,8],\"WS_3\":[0,0],\"WS_4\":[0,0]},\n",
        "#              \"Line_2\":{\"WS_1\":[5,6],\"WS_2\":[6,5],\"WS_3\":[8,7],\"WS_4\":[0,0]},\n",
        "#              \"Line_3\":{\"WS_1\":[6,5],\"WS_2\":[6,4],\"WS_3\":[7,10],\"WS_4\":[4,5]},\n",
        "#              \"Line_4\":{\"WS_1\":[8,15],\"WS_2\":[7,10],\"WS_3\":[0,0],\"WS_4\":[0,0]}}\n",
        "\n",
        "WorkStations_Data = {\"WS_1\":{\"Line_1\":[8,12],\"Line_2\":[5,6],\"Line_3\":[6,5],\"Line_4\":[8,15]},\n",
        "                     \"WS_2\":{\"Line_1\":[5,8],\"Line_2\":[6,5],\"Line_3\":[6,4],\"Line_4\":[7,10]},\n",
        "                     \"WS_3\":{\"Line_1\":[0,0],\"Line_2\":[8,7],\"Line_3\":[7,10],\"Line_4\":[0,0]},\n",
        "                     \"WS_4\":{\"Line_1\":[0,0],\"Line_2\":[0,0],\"Line_3\":[4,5],\"Line_4\":[0,0]}}\n",
        "\n",
        "# Man_Time_Data= {\"Production_Line_Num\":{\"Workstation_Num\":{\"Product_Type\":Production_Time_Min}}}\n",
        "Man_Time_Data = {\"Line_1\":{\"WS_1\":{\"Product_1\":15,\"Product_2\":7,\"Product_3\":8,\"Product_4\":10,\"Product_5\":15},\n",
        "                           \"WS_2\":{\"Product_1\":0,\"Product_2\":6,\"Product_3\":8,\"Product_4\":2,\"Product_5\":4},\n",
        "                           \"WS_3\":{\"Product_1\":0,\"Product_2\":0,\"Product_3\":0,\"Product_4\":0,\"Product_5\":0},\n",
        "                           \"WS_4\":{\"Product_1\":0,\"Product_2\":0,\"Product_3\":0,\"Product_4\":0,\"Product_5\":0}},\n",
        "\n",
        "                 \"Line_2\":{\"WS_1\":{\"Product_1\":4,\"Product_2\":2,\"Product_3\":5,\"Product_4\":2,\"Product_5\":4},\n",
        "                           \"WS_2\":{\"Product_1\":5,\"Product_2\":3,\"Product_3\":4,\"Product_4\":6,\"Product_5\":2},\n",
        "                           \"WS_3\":{\"Product_1\":1,\"Product_2\":5,\"Product_3\":4,\"Product_4\":1,\"Product_5\":13},\n",
        "                           \"WS_4\":{\"Product_1\":0,\"Product_2\":0,\"Product_3\":0,\"Product_4\":0,\"Product_5\":0}},\n",
        "\n",
        "                 \"Line_3\":{\"WS_1\":{\"Product_1\":2,\"Product_2\":4,\"Product_3\":5,\"Product_4\":3,\"Product_5\":4},\n",
        "                          \"WS_2\":{\"Product_1\":5,\"Product_2\":3,\"Product_3\":4,\"Product_4\":1,\"Product_5\":7},\n",
        "                          \"WS_3\":{\"Product_1\":1,\"Product_2\":2,\"Product_3\":5,\"Product_4\":6,\"Product_5\":7},\n",
        "                          \"WS_4\":{\"Product_1\":2,\"Product_2\":3,\"Product_3\":4,\"Product_4\":1,\"Product_5\":5}},\n",
        "\n",
        "                 \"Line_4\":{\"WS_1\":{\"Product_1\":7,\"Product_2\":10,\"Product_3\":2,\"Product_4\":10,\"Product_5\":13},\n",
        "                           \"WS_2\":{\"Product_1\":4,\"Product_2\":3,\"Product_3\":4,\"Product_4\":0,\"Product_5\":10},\n",
        "                           \"WS_3\":{\"Product_1\":0,\"Product_2\":0,\"Product_3\":0,\"Product_4\":0,\"Product_5\":0},\n",
        "                           \"WS_4\":{\"Product_1\":0,\"Product_2\":0,\"Product_3\":0,\"Product_4\":0,\"Product_5\":0}}}\n",
        "M= 1000000\n",
        "\n",
        "#Lines_Data[\"Line_1\"].keys()"
      ]
    },
    {
      "cell_type": "code",
      "execution_count": null,
      "metadata": {
        "colab": {
          "background_save": true
        },
        "id": "VoXKriiNPK8V"
      },
      "outputs": [],
      "source": [
        "# Decision variables\n",
        "x = {(i,j): m.integer_var(lb= 0, ub= None, name='Number of units of  {0} to be produced on  {1}'.format(i,j))for i in Products_Data.keys()\n",
        "                                                    for j in Man_Time_Data.keys() }\n",
        "\n",
        "y = {(i,j): m.binary_var( name='Whether {0} will be produced on  {1}'.format(i,j))for i in Products_Data.keys()\n",
        "                                                    for j in Man_Time_Data.keys() }\n"
      ]
    },
    {
      "cell_type": "code",
      "execution_count": null,
      "metadata": {
        "colab": {
          "background_save": true
        },
        "id": "bswkptXATWJ0"
      },
      "outputs": [],
      "source": [
        "# Net_Profit = Total_revenues - Cost_Related_To_Machines - Setup_Cost\n",
        "Total_Revenue = m.sum(x [(i,j)] * Products_Data[i][0]  for i in Products_Data.keys() for j in Man_Time_Data.keys()  )\n",
        "\n",
        "Machines_Cost = m.sum(x [(i,j)] * WorkStations_Data [k][j][1] *Man_Time_Data[j][k][i] *(1/60)\n",
        "                         for i in Products_Data.keys() for j in Man_Time_Data.keys() for k in WorkStations_Data.keys() )\n",
        "\n",
        "\n",
        "Setup_Cost = m.sum(y[(i,j)] * Products_Data[i][2][j] for i in Products_Data.keys() for j in Man_Time_Data.keys())\n",
        "\n",
        "Net_Profit = Total_Revenue -Machines_Cost- Setup_Cost\n",
        "m.maximize (Net_Profit)"
      ]
    },
    {
      "cell_type": "code",
      "execution_count": null,
      "metadata": {
        "colab": {
          "background_save": true
        },
        "id": "FnGnX_YAX5Th"
      },
      "outputs": [],
      "source": [
        "# Defining the constraints\n",
        "# Not to exceed the maximum working capacity in (Hrs) for each workstation within each line\n",
        "for j in Man_Time_Data.keys():\n",
        "  for k in WorkStations_Data.keys():\n",
        "    m.add_constraint_(m.sum(x[(i,j)]* Man_Time_Data[j][k][i] for i in Products_Data.keys() ) <= 60* WorkStations_Data[k][j][0] )\n",
        "\n",
        "# To endsure that the demand for each product is being satisfied\n",
        "for i in Products_Data.keys():\n",
        "  m.add_constraint_(m.sum(x[(i,j)]for j in Man_Time_Data.keys()  ) == Products_Data[i][1] )\n",
        "\n",
        "# If a product is assigned to a specific line, it needs to be processed on all workstions of that line\n",
        "for i in Products_Data.keys():\n",
        "  for j in Man_Time_Data.keys():\n",
        "    m.add_constraint_(x[(i,j)] <= y[(i,j)]* (sum(60*WorkStations_Data[k][j][0]for k in WorkStations_Data.keys())/ sum(Man_Time_Data[j][k][i] for k in WorkStations_Data.keys() ) ))\n",
        "\n",
        "\n",
        "# To force all lines to work\n",
        "for j in Man_Time_Data.keys():\n",
        "  m.add_constraint_(m.sum(y[(i,j)]for i in Products_Data.keys()) >= 1 )\n",
        "\n",
        "# The activation constarint (To ensure that the binary variable is (1) whenever a line is producing a specific product, \"x_ij is greater than zero\")\n",
        "for i in Products_Data.keys():\n",
        "  for j in Man_Time_Data.keys():\n",
        "    m.add_constraint_(x[(i,j)] <= M* y[(i,j)])"
      ]
    },
    {
      "cell_type": "code",
      "execution_count": null,
      "metadata": {
        "colab": {
          "background_save": true,
          "base_uri": "https://localhost:8080/"
        },
        "id": "dazTr43LbpxE",
        "outputId": "a55c9e34-79ee-4c64-98e8-a4fe766f9823"
      },
      "outputs": [
        {
          "name": "stdout",
          "output_type": "stream",
          "text": [
            "Model: OR_Lab_Final_Exam_Form_1\n",
            " - number of variables: 40\n",
            "   - binary=20, integer=20, continuous=0\n",
            " - number of constraints: 65\n",
            "   - linear=65\n",
            " - parameters: defaults\n",
            " - objective: maximize\n",
            " - problem type is: MILP\n",
            "Version identifier: 20.1.0.1 | 2021-12-07 | 9dfdf6686\n",
            "CPXPARAM_Read_DataCheck                          1\n",
            "Tried aggregator 1 time.\n",
            "MIP Presolve eliminated 25 rows and 0 columns.\n",
            "MIP Presolve modified 41 coefficients.\n",
            "Reduced MIP has 40 rows, 40 columns, and 133 nonzeros.\n",
            "Reduced MIP has 20 binaries, 20 generals, 0 SOSs, and 0 indicators.\n",
            "Presolve time = 0.01 sec. (0.09 ticks)\n",
            "Probing time = 0.00 sec. (0.01 ticks)\n",
            "Tried aggregator 1 time.\n",
            "Detecting symmetries...\n",
            "Reduced MIP has 40 rows, 40 columns, and 133 nonzeros.\n",
            "Reduced MIP has 20 binaries, 20 generals, 0 SOSs, and 0 indicators.\n",
            "Presolve time = 0.00 sec. (0.08 ticks)\n",
            "Probing time = 0.00 sec. (0.01 ticks)\n",
            "Clique table members: 3.\n",
            "MIP emphasis: balance optimality and feasibility.\n",
            "MIP search method: dynamic search.\n",
            "Parallel mode: deterministic, using up to 2 threads.\n",
            "Root relaxation solution time = 0.00 sec. (0.14 ticks)\n",
            "\n",
            "        Nodes                                         Cuts/\n",
            "   Node  Left     Objective  IInf  Best Integer    Best Bound    ItCnt     Gap\n",
            "\n",
            "      0     0     5835.1397    12                   5835.1397       33         \n",
            "*     0+    0                         5660.8500     5835.1397             3.08%\n",
            "      0     0     5786.2938    24     5660.8500      Cuts: 27       56    2.22%\n",
            "      0     0     5777.1907    28     5660.8500       Cuts: 7       70    2.06%\n",
            "      0     0     5769.4466    25     5660.8500       Cuts: 9       81    1.92%\n",
            "      0     0     5768.9586    27     5660.8500       Cuts: 6       89    1.91%\n",
            "      0     0     5768.1980    21     5660.8500      Cuts: 11       96    1.90%\n",
            "Detecting symmetries...\n",
            "      0     0     5765.9832    27     5660.8500       Cuts: 6      101    1.86%\n",
            "      0     0     5765.9505    27     5660.8500       Cuts: 5      103    1.86%\n",
            "      0     0     5765.7710    27     5660.8500   LiftProj: 1      104    1.85%\n",
            "*     0+    0                         5725.2000     5765.7710             0.71%\n",
            "      0     0        cutoff           5725.2000     5725.2000      104    0.00%\n",
            "Elapsed time = 0.11 sec. (4.40 ticks, tree = 0.01 MB, solutions = 2)\n",
            "\n",
            "Clique cuts applied:  1\n",
            "Cover cuts applied:  1\n",
            "Flow cuts applied:  4\n",
            "Mixed integer rounding cuts applied:  9\n",
            "Lift and project cuts applied:  1\n",
            "Gomory fractional cuts applied:  1\n",
            "\n",
            "Root node processing (before b&c):\n",
            "  Real time             =    0.12 sec. (4.40 ticks)\n",
            "Parallel b&c, 2 threads:\n",
            "  Real time             =    0.00 sec. (0.00 ticks)\n",
            "  Sync time (average)   =    0.00 sec.\n",
            "  Wait time (average)   =    0.00 sec.\n",
            "                          ------------\n",
            "Total (root+branch&cut) =    0.12 sec. (4.40 ticks)\n",
            "integer optimal solution\n",
            "objective: 5725.200\n",
            "  \"Number of units of  Product_1 to be produced on  Line_3\"=40\n",
            "  \"Number of units of  Product_2 to be produced on  Line_1\"=38\n",
            "  \"Number of units of  Product_2 to be produced on  Line_2\"=92\n",
            "  \"Number of units of  Product_2 to be produced on  Line_3\"=30\n",
            "  \"Number of units of  Product_3 to be produced on  Line_4\"=80\n",
            "  \"Number of units of  Product_4 to be produced on  Line_2\"=14\n",
            "  \"Number of units of  Product_4 to be produced on  Line_3\"=53\n",
            "  \"Number of units of  Product_4 to be produced on  Line_4\"=28\n",
            "  \"Number of units of  Product_5 to be produced on  Line_1\"=10\n",
            "  \"Whether Product_1 will be produced on  Line_3\"=1\n",
            "  \"Whether Product_2 will be produced on  Line_1\"=1\n",
            "  \"Whether Product_2 will be produced on  Line_2\"=1\n",
            "  \"Whether Product_2 will be produced on  Line_3\"=1\n",
            "  \"Whether Product_3 will be produced on  Line_4\"=1\n",
            "  \"Whether Product_4 will be produced on  Line_2\"=1\n",
            "  \"Whether Product_4 will be produced on  Line_3\"=1\n",
            "  \"Whether Product_4 will be produced on  Line_4\"=1\n",
            "  \"Whether Product_5 will be produced on  Line_1\"=1\n"
          ]
        }
      ],
      "source": [
        "m.print_information()\n",
        "\n",
        "# Solving the model\n",
        "m.solve(log_output=True)\n",
        "\n",
        "\n",
        "# Solution status\n",
        "print(m.solve_details.status)\n",
        "\n",
        "# printing solution\n",
        "m.print_solution()"
      ]
    }
  ],
  "metadata": {
    "colab": {
      "provenance": []
    },
    "kernelspec": {
      "display_name": "Python 3",
      "name": "python3"
    },
    "language_info": {
      "name": "python"
    }
  },
  "nbformat": 4,
  "nbformat_minor": 0
}
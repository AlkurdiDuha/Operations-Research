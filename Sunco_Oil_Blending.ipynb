{
  "nbformat": 4,
  "nbformat_minor": 0,
  "metadata": {
    "colab": {
      "provenance": []
    },
    "kernelspec": {
      "name": "python3",
      "display_name": "Python 3"
    },
    "language_info": {
      "name": "python"
    }
  },
  "cells": [
    {
      "cell_type": "markdown",
      "source": [
        "##Operatins Research Applications & Algorithms\n",
        "##Chapter 3.8, Example (10)\n",
        "**Sunco Oil manufactures three types of gasoline (gas 1, gas 2, and gas 3).**\n",
        "\n",
        "**Section 4_ Wednesday**\n",
        "\n",
        "\n",
        "##Parametrs Definition\n",
        "* $I$: The set of crude oils used to produce different gasoline types , \\{1, 2,3\\}\n",
        "* $J$: The three different gasoline types , \\{\"Gas_1\", \"Gas_2\",\"Gas_3\"\\}\n",
        "* $S_j \\equiv $  Selling price in (\\$) for one barrel for each gas type  $j$, $j\\in J$.\n",
        "* $C_i \\equiv $  The cost per barrel in dollars for each component  $i$, $i\\in I$.\n",
        "* $A_i \\equiv $ The maximum available amount of each component $i$ measured in Barrels per day , $i\\in I$.\n",
        "* $O_i \\equiv $ The octane rating for each crude oil $i$ , $i\\in I$.\n",
        "* $U_i \\equiv $ The percent sulfur content for each crude oil $i$ , $i\\in I$.\n",
        "* $OC_j \\equiv $ The minimum octane rating required for each gas type $j$ , $j\\in J$.\n",
        "* $UL_j \\equiv $ The maximum percent of sulfur content for each required for each gas type $j$ , $j\\in J$.\n",
        "* $D_j \\equiv $ Demand of Sunco's customers in barrels per day for each type of gas $j$, $j\\in J$.\n",
        "* $P \\equiv $ The constant production cost that is equivalent to \\$4 to transform one barrel of oil into one barrel of gas.\n",
        "* $M \\equiv $ The maximum production capacity of Sunco's refinery that is equivalent to 14000 barrels of gasoline per day.\n",
        "\n",
        "\n",
        "##Decision Variables\n",
        "\\begin{align*}\n",
        "    x_{ij} & \\equiv \\text {Barrels of component (crude oil) $i$ used to produce gas type $j$ per day } i \\in I, j \\in J\\\\\n",
        "    y_j & \\equiv \\text {The amount of \\$ spent daily on advertising gas type $j$} ,j \\in J\\\\\n",
        "\\end{align*}\n",
        "\n",
        "##Linear Programme\n",
        "\\begin{align*}\n",
        "    \\max \\hspace{10pt} & \\sum_{i \\in I}\\sum_{j\\in J} x_{ij}S_{j} -\\sum_{i \\in I}\\sum_{j\\in J} x_{ij}c_{i} - \\sum_{j \\in J} y_j -P\\sum_{i \\in I}\\sum_{j\\in J} x_{ij}\\\\\\\\\n",
        "    \\text{s.t.} \\hspace{7pt}\n",
        "    & \\frac{\\sum_{i \\in I} O_i x_{ij}}{\\sum_{i \\in I}x_{ij}} \\ge OC_j & \\forall {j \\in J}\\\\ \\\\\n",
        "    & \\frac{\\sum_{i \\in I} U_i x_{ij}}{\\sum_{i \\in I}x_{ij}} \\le UL_j & \\forall {j \\in J}\\\\ \\\\\n",
        "    & \\sum_{j\\in J}x_{ij}\\le  A_i & \\forall i \\in I\\\\\n",
        "    & \\sum_{i \\in I}x_{ij} =  D_j+ 10(y_j)& \\forall j \\in J\\\\\n",
        "    & \\sum_{i \\in I}\\sum_{j \\in J}x_{ij}\\le  M \\\\\n",
        "    & x_{ij}\\ge 0 & \\forall i \\in I , \\forall j \\in J\\\\\n",
        "  \\end{align*}"
      ],
      "metadata": {
        "id": "vNZaJRIPASHe"
      }
    },
    {
      "cell_type": "code",
      "source": [
        "# To call optimization library\n",
        "!pip install cplex\n",
        "!pip install docplex"
      ],
      "metadata": {
        "colab": {
          "base_uri": "https://localhost:8080/"
        },
        "id": "N9DGEC2T3FpA",
        "outputId": "48313c99-9b64-44c3-f1fe-b31e45737221"
      },
      "execution_count": null,
      "outputs": [
        {
          "output_type": "stream",
          "name": "stdout",
          "text": [
            "Looking in indexes: https://pypi.org/simple, https://us-python.pkg.dev/colab-wheels/public/simple/\n",
            "Collecting cplex\n",
            "  Downloading cplex-22.1.0.0-cp37-cp37m-manylinux1_x86_64.whl (43.3 MB)\n",
            "\u001b[K     |████████████████████████████████| 43.3 MB 1.3 MB/s \n",
            "\u001b[?25hInstalling collected packages: cplex\n",
            "Successfully installed cplex-22.1.0.0\n",
            "Looking in indexes: https://pypi.org/simple, https://us-python.pkg.dev/colab-wheels/public/simple/\n",
            "Collecting docplex\n",
            "  Downloading docplex-2.23.222.tar.gz (610 kB)\n",
            "\u001b[K     |████████████████████████████████| 610 kB 19.6 MB/s \n",
            "\u001b[?25hRequirement already satisfied: six in /usr/local/lib/python3.7/dist-packages (from docplex) (1.15.0)\n",
            "Building wheels for collected packages: docplex\n",
            "  Building wheel for docplex (setup.py) ... \u001b[?25l\u001b[?25hdone\n",
            "  Created wheel for docplex: filename=docplex-2.23.222-py3-none-any.whl size=662847 sha256=40c15e34ada0655e5249eefce6a2cc78e2fe91aac11791a3c3afb137ebaad1e5\n",
            "  Stored in directory: /root/.cache/pip/wheels/a7/c9/fb/cee5a89f304e77a39c466e625ac2830434b76eb8384999d116\n",
            "Successfully built docplex\n",
            "Installing collected packages: docplex\n",
            "Successfully installed docplex-2.23.222\n"
          ]
        }
      ]
    },
    {
      "cell_type": "code",
      "source": [
        "# First impot the Model class from docplex.mp\n",
        "from docplex.mp.model import Model"
      ],
      "metadata": {
        "id": "picflYnk3IjZ"
      },
      "execution_count": null,
      "outputs": []
    },
    {
      "cell_type": "code",
      "source": [
        "# Create one model instance, with a name\n",
        "m = Model (name=\"Sunco_Oil_Blending\")"
      ],
      "metadata": {
        "id": "ShnM5QxS3LkD"
      },
      "execution_count": null,
      "outputs": []
    },
    {
      "cell_type": "code",
      "source": [
        "#All_Related_To_Components ={Component No: [\"Maximum Barrels Available/Day\",\"Cost/Barrel\",\"Octane Rating\",\"% Sulfur Content\"]}\n",
        "All_Related_To_Components = {'Crude_1':[5000,45,12,0.5],\n",
        "                             'Crude_2':[5000,35, 6,2.0],\n",
        "                             'Crude_3':[5000,25, 8,3.0]}\n",
        "#Gas ={\"Gas_Type\":[\"Demand\",\"Selling Price/Barrel\",\"Min_Octane Rating\",\"Max_Sulfur Content\"]}\n",
        "Gas= {\"Gas_1\":[3000,70,10,1],\n",
        "      \"Gas_2\":[2000,60, 8,2],\n",
        "      \"Gas_3\":[1000,50, 6,1]}\n",
        "\n",
        "Prod_Cost = 4\n",
        "Sunco_Capacity = 14000\n",
        "\n",
        "#All_Related_To_Components[i for i in All_Related_To_Components.keys() ]"
      ],
      "metadata": {
        "id": "Q9oqidbp3TCc"
      },
      "execution_count": null,
      "outputs": []
    },
    {
      "cell_type": "code",
      "source": [
        "# Defining the decision variables\n",
        "Amount_in_Blend = {(i,j):m.continuous_var(lb=0,ub=None,name= 'Amount of component type {0} in oil type {1}'.format(i,j)) for i in All_Related_To_Components.keys() for j in Gas.keys()}\n",
        "Adv_Gas = m.continuous_var_dict(Gas.keys(),lb = 0, ub = None , name = 'Dollars spent on advertising %s')"
      ],
      "metadata": {
        "id": "rKf4obwu53dz"
      },
      "execution_count": null,
      "outputs": []
    },
    {
      "cell_type": "code",
      "source": [
        "# Defining the objective function\n",
        "Total_Revenue = m.sum(Gas[j][1]*Amount_in_Blend[(i,j)]for i in All_Related_To_Components.keys() for j in Gas.keys())\n",
        "Total_Oils_Cost = m.sum(Amount_in_Blend[(i,j)]*All_Related_To_Components[i][1]for i in All_Related_To_Components.keys() for j in Gas.keys())\n",
        "Total_Advertising_Cost = m.sum(Adv_Gas[j] for j in Gas.keys())\n",
        "Total_Production_Cost = m.sum(Prod_Cost*Amount_in_Blend[(i,j)]for i in All_Related_To_Components.keys() for j in Gas.keys())\n",
        "Net_Profit = Total_Revenue-Total_Oils_Cost-Total_Advertising_Cost-Total_Production_Cost\n",
        "m.maximize(Net_Profit)\n"
      ],
      "metadata": {
        "id": "PX9DzyB96dsM"
      },
      "execution_count": null,
      "outputs": []
    },
    {
      "cell_type": "code",
      "source": [
        "# Defining the constraints\n",
        "# Demand Constraints\n",
        "for j in Gas.keys():\n",
        "  m.add_constraint_(m.sum(Amount_in_Blend[(i,j)]for i in All_Related_To_Components.keys())== Gas[j][0]+10*Adv_Gas[j] )\n",
        "\n",
        "# Not to exceed the availability of the components\n",
        "for i in All_Related_To_Components.keys():\n",
        "  m.add_constraint_(m.sum(Amount_in_Blend [(i,j)] for j in Gas.keys())<= All_Related_To_Components[i][0] )\n",
        "\n",
        "# Not to exceed Sunco' totol production capacity\n",
        "m.add_constraint_(m.sum(Amount_in_Blend [(i,j)] for i in All_Related_To_Components.keys() for j in Gas.keys())<= Sunco_Capacity)\n",
        "\n",
        "# Octane level blending constraints\n",
        "for j in Gas.keys():\n",
        "  m.add_constraint_(m.sum(Amount_in_Blend[(i,j)]* All_Related_To_Components[i][2]for i in All_Related_To_Components.keys())>= m.sum(Amount_in_Blend[(i,j)]* Gas[j][2]for i in All_Related_To_Components.keys()) )\n",
        "\n",
        "# Sulfur level blending constraints\n",
        "for j in Gas.keys():\n",
        "  m.add_constraint_(m.sum(Amount_in_Blend[(i,j)]* All_Related_To_Components[i][3] *(1/100)for i in All_Related_To_Components.keys())<= m.sum(Amount_in_Blend[(i,j)]* Gas[j][3]*(1/100) for i in All_Related_To_Components.keys()))\n"
      ],
      "metadata": {
        "id": "dZIzb3d67sdN"
      },
      "execution_count": null,
      "outputs": []
    },
    {
      "cell_type": "code",
      "source": [
        "m.print_information()\n",
        "m.solve()\n",
        "print(m.solve_status)\n",
        "m.print_solution()\n"
      ],
      "metadata": {
        "colab": {
          "base_uri": "https://localhost:8080/"
        },
        "id": "AgMt48sf92UU",
        "outputId": "995a9c97-54f8-440b-a8d8-f3a48e0a8f75"
      },
      "execution_count": null,
      "outputs": [
        {
          "output_type": "stream",
          "name": "stdout",
          "text": [
            "Model: Sunco_Oil_Blending\n",
            " - number of variables: 12\n",
            "   - binary=0, integer=0, continuous=12\n",
            " - number of constraints: 13\n",
            "   - linear=13\n",
            " - parameters: defaults\n",
            " - objective: maximize\n",
            " - problem type is: LP\n",
            "JobSolveStatus.OPTIMAL_SOLUTION\n",
            "objective: 287750.000\n",
            "  \"Amount of component type Crude_1 in oil type Gas_1\"=2088.889\n",
            "  \"Amount of component type Crude_1 in oil type Gas_2\"=2111.111\n",
            "  \"Amount of component type Crude_1 in oil type Gas_3\"=800.000\n",
            "  \"Amount of component type Crude_2 in oil type Gas_1\"=777.778\n",
            "  \"Amount of component type Crude_2 in oil type Gas_2\"=4222.222\n",
            "  \"Amount of component type Crude_3 in oil type Gas_1\"=133.333\n",
            "  \"Amount of component type Crude_3 in oil type Gas_2\"=3166.667\n",
            "  \"Amount of component type Crude_3 in oil type Gas_3\"=200.000\n",
            "  \"Dollars spent on advertising Gas_2\"=750.000\n"
          ]
        }
      ]
    },
    {
      "cell_type": "markdown",
      "source": [
        "![Sunco's Oil_Optimal Solution.PNG](data:image/png;base64,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)"
      ],
      "metadata": {
        "id": "VxQ40CJHOM1C"
      }
    }
  ]
}
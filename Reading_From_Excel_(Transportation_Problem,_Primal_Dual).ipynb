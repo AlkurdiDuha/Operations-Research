{
  "nbformat": 4,
  "nbformat_minor": 0,
  "metadata": {
    "colab": {
      "provenance": []
    },
    "kernelspec": {
      "display_name": "Python 3",
      "name": "python3"
    },
    "language_info": {
      "name": "python"
    }
  },
  "cells": [
    {
      "cell_type": "markdown",
      "metadata": {
        "id": "3e8SxryxHp5K"
      },
      "source": [
        "\n",
        "# CHAPTER 6 TRANSPORTATION, TRANSSHIPMENT, AND ASSIGNMENT PROBLEMS\n",
        "**Introduction To Managemnt Science**\\\n",
        "**Page 256**\n",
        "##Parametrs Definition\n",
        "* $I$: The set of supply nodes , \\{\"Tampa\", \"Miami\", \"Fresno\"\\}\n",
        "* $J$: The set of demand nodes/ destination nodes  , \\{\"New York\",\"Philadelphia\",\"Chicago\", \"Boston\"\\}\n",
        "* $S_i \\equiv $  Maximum number of units that can be shipped from supply node   $i$, $i\\in I$.\n",
        "* $D_j \\equiv $ The demand for each node  $j$, $j\\in J$.\n",
        "* $T_{ij} \\equiv $ The shipping costs per truckload (in hundreds of dollars) form each supply node  $i$ to each demand node $j$, $i\\in I$, $j\\in J$.\n",
        "##Decison Variables\n",
        "\\begin{align*}\n",
        "  x_{ij} & \\equiv \\text {Quantity shipped from each supply node $i$ to each destination node $j$ }\n",
        "\\\\\\end{align*}\n",
        "##Linear Programme\n",
        "\\begin{align*}\n",
        " \\min \\hspace{10pt} & \\sum_{i \\in I}\\sum_{j\\in J} x_{ij}T_{ij} \\\\\n",
        " \\text{s.t.} \\hspace{7pt}\n",
        "   & \\sum_{j\\in J}x_{ij} \\le S_i & \\forall i \\in I\\\\\n",
        "& \\sum_{i\\in I}x_{ij} \\ge D_j & \\forall j \\in J\\\\\n",
        "   & x_{ij}\\ge 0 & \\forall i \\in I , \\forall j \\in J\\\\\n",
        " \\end{align*}\n",
        "\n",
        "\n",
        "## Dual Decison Variables\n",
        "\\begin{align*}\n",
        "    U_{i} & \\equiv \\text {The corresponding dual variabel for the supply constarints } \\\\\n",
        "    V_{j} & \\equiv \\text {The corresponding dual variabel for the demand constarints }\n",
        "\\end{align*}\n",
        "\n",
        "## Dual Linear Programme\n",
        "\\begin{align*}\n",
        "    \\max \\hspace{10pt} & \\sum_{i \\in I} S_iU_i+ \\sum_{j \\in J} D_jV_j\\\\\n",
        "    \\text{s.t.} \\hspace{7pt}\n",
        "    & U_i + V_j \\le T_{ij} & \\forall i \\in I  , \\forall j \\in J\\\\\n",
        "    & U_{i}\\le 0 & \\forall i \\in I \\\\\n",
        "    & V_{j}\\ge 0 & \\forall j \\in J\\\\\n",
        "  \\end{align*}\n"
      ]
    },
    {
      "cell_type": "code",
      "metadata": {
        "id": "UVmLx6VPM8pQ",
        "colab": {
          "base_uri": "https://localhost:8080/"
        },
        "outputId": "6613dc5c-8134-4167-a9d3-6a5a084540e9"
      },
      "source": [
        "# To call optimization library\n",
        "!pip install cplex\n",
        "!pip install docplex\n",
        "!pip install pandas"
      ],
      "execution_count": null,
      "outputs": [
        {
          "output_type": "stream",
          "name": "stdout",
          "text": [
            "Requirement already satisfied: cplex in /usr/local/lib/python3.7/dist-packages (20.1.0.1)\n",
            "Requirement already satisfied: docplex in /usr/local/lib/python3.7/dist-packages (2.22.213)\n",
            "Requirement already satisfied: six in /usr/local/lib/python3.7/dist-packages (from docplex) (1.15.0)\n",
            "Requirement already satisfied: pandas in /usr/local/lib/python3.7/dist-packages (1.1.5)\n",
            "Requirement already satisfied: pytz>=2017.2 in /usr/local/lib/python3.7/dist-packages (from pandas) (2018.9)\n",
            "Requirement already satisfied: numpy>=1.15.4 in /usr/local/lib/python3.7/dist-packages (from pandas) (1.19.5)\n",
            "Requirement already satisfied: python-dateutil>=2.7.3 in /usr/local/lib/python3.7/dist-packages (from pandas) (2.8.2)\n",
            "Requirement already satisfied: six>=1.5 in /usr/local/lib/python3.7/dist-packages (from python-dateutil>=2.7.3->pandas) (1.15.0)\n"
          ]
        }
      ]
    },
    {
      "cell_type": "code",
      "metadata": {
        "id": "Ai7NKa5IOC8i"
      },
      "source": [
        "from docplex.mp.model import Model\n",
        "import pandas as pd\n",
        "import io\n",
        "#io: Python Input Output (I/O) Using input() and print() Function."
      ],
      "execution_count": null,
      "outputs": []
    },
    {
      "cell_type": "code",
      "metadata": {
        "id": "NTbBPASxPPXH",
        "colab": {
          "resources": {
            "http://localhost:8080/nbextensions/google.colab/files.js": {
              "data": "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",
              "ok": true,
              "headers": [
                [
                  "content-type",
                  "application/javascript"
                ]
              ],
              "status": 200,
              "status_text": "OK"
            }
          },
          "base_uri": "https://localhost:8080/",
          "height": 74
        },
        "outputId": "eba1ac5c-9fc3-4154-905f-7aaf755344be"
      },
      "source": [
        "#Method 1\n",
        "from google.colab import files\n",
        "uploaded=files.upload()\n",
        "\n",
        "\n"
      ],
      "execution_count": null,
      "outputs": [
        {
          "output_type": "display_data",
          "data": {
            "text/html": [
              "\n",
              "     <input type=\"file\" id=\"files-4186aeaa-ef65-4c0f-80e9-a7aba05350ea\" name=\"files[]\" multiple disabled\n",
              "        style=\"border:none\" />\n",
              "     <output id=\"result-4186aeaa-ef65-4c0f-80e9-a7aba05350ea\">\n",
              "      Upload widget is only available when the cell has been executed in the\n",
              "      current browser session. Please rerun this cell to enable.\n",
              "      </output>\n",
              "      <script src=\"/nbextensions/google.colab/files.js\"></script> "
            ],
            "text/plain": [
              "<IPython.core.display.HTML object>"
            ]
          },
          "metadata": {}
        },
        {
          "output_type": "stream",
          "name": "stdout",
          "text": [
            "Saving Transportation.xlsx to Transportation.xlsx\n"
          ]
        }
      ]
    },
    {
      "cell_type": "code",
      "metadata": {
        "id": "e98fHackUTyu",
        "colab": {
          "base_uri": "https://localhost:8080/",
          "height": 175
        },
        "outputId": "587f03da-eaee-4960-9cdd-467bacbd6af1"
      },
      "source": [
        "df=pd.read_excel(io.BytesIO(uploaded[\"Transportation.xlsx\"]),skiprows=11,usecols=\"D:I\")\n",
        "df\n",
        "\n"
      ],
      "execution_count": null,
      "outputs": [
        {
          "output_type": "execute_result",
          "data": {
            "text/html": [
              "<div>\n",
              "<style scoped>\n",
              "    .dataframe tbody tr th:only-of-type {\n",
              "        vertical-align: middle;\n",
              "    }\n",
              "\n",
              "    .dataframe tbody tr th {\n",
              "        vertical-align: top;\n",
              "    }\n",
              "\n",
              "    .dataframe thead th {\n",
              "        text-align: right;\n",
              "    }\n",
              "</style>\n",
              "<table border=\"1\" class=\"dataframe\">\n",
              "  <thead>\n",
              "    <tr style=\"text-align: right;\">\n",
              "      <th></th>\n",
              "      <th>From</th>\n",
              "      <th>New York</th>\n",
              "      <th>Philadelphia</th>\n",
              "      <th>Chicago</th>\n",
              "      <th>Boston</th>\n",
              "      <th>Supply</th>\n",
              "    </tr>\n",
              "  </thead>\n",
              "  <tbody>\n",
              "    <tr>\n",
              "      <th>0</th>\n",
              "      <td>Tampa</td>\n",
              "      <td>9</td>\n",
              "      <td>14</td>\n",
              "      <td>12</td>\n",
              "      <td>17</td>\n",
              "      <td>200.0</td>\n",
              "    </tr>\n",
              "    <tr>\n",
              "      <th>1</th>\n",
              "      <td>Miami</td>\n",
              "      <td>11</td>\n",
              "      <td>10</td>\n",
              "      <td>6</td>\n",
              "      <td>10</td>\n",
              "      <td>200.0</td>\n",
              "    </tr>\n",
              "    <tr>\n",
              "      <th>2</th>\n",
              "      <td>Fresno</td>\n",
              "      <td>12</td>\n",
              "      <td>8</td>\n",
              "      <td>15</td>\n",
              "      <td>7</td>\n",
              "      <td>200.0</td>\n",
              "    </tr>\n",
              "    <tr>\n",
              "      <th>3</th>\n",
              "      <td>Demand</td>\n",
              "      <td>130</td>\n",
              "      <td>170</td>\n",
              "      <td>100</td>\n",
              "      <td>150</td>\n",
              "      <td>NaN</td>\n",
              "    </tr>\n",
              "  </tbody>\n",
              "</table>\n",
              "</div>"
            ],
            "text/plain": [
              "    From   New York  Philadelphia  Chicago  Boston  Supply\n",
              "0   Tampa         9            14       12      17   200.0\n",
              "1  Miami         11            10        6      10   200.0\n",
              "2  Fresno        12             8       15       7   200.0\n",
              "3  Demand       130           170      100     150     NaN"
            ]
          },
          "metadata": {},
          "execution_count": 9
        }
      ]
    },
    {
      "cell_type": "code",
      "metadata": {
        "id": "i1uW_okVyxCI"
      },
      "source": [
        "#Method2\n",
        "#Mounting Method, to define your drive\n",
        "#from google.colab import drive\n",
        "#drive.mount('/content/gdrive')\n",
        "# If the file was uploaded to google drive and it was not inside a folder\n",
        "#df=pd.read_excel('/content/drive/MyDrive/New_Folder/Simplex Algorithm.xlsx',skiprows=11,usecols=\"D:I\")\n",
        "\n",
        "# If the file was inside a folder named as \"Google Colab Excel Sheets\"\n",
        "#df=pd.read_excel('/content/gdrive/MyDrive/Google Colab Excel Sheets/Transportation.xlsx',skiprows=11,usecols=\"D:I\")\n",
        "\n",
        "\n",
        "#df"
      ],
      "execution_count": null,
      "outputs": []
    },
    {
      "cell_type": "code",
      "metadata": {
        "colab": {
          "base_uri": "https://localhost:8080/"
        },
        "id": "njJwLOUPF2gS",
        "outputId": "f4c2bc7b-5dde-488a-d0d4-dbee5bcc01f4"
      },
      "source": [
        "df.head()\n",
        "df.columns\n",
        "#df['From ']\n",
        "df.columns[1]\n",
        "df[df.columns[1]]\n",
        "df[df.columns[1]][0]\n",
        "df[df.columns[4]][0]\n",
        "df.iloc[2,3] #Access elemnts using integer index for rows and columns output 15\n",
        "df.loc[df[df.columns[1]]==12,df.columns[1]]\n",
        "df.columns.get_loc('Boston')\n",
        "len (df)\n"
      ],
      "execution_count": null,
      "outputs": [
        {
          "output_type": "execute_result",
          "data": {
            "text/plain": [
              "4"
            ]
          },
          "metadata": {},
          "execution_count": 11
        }
      ]
    },
    {
      "cell_type": "code",
      "metadata": {
        "colab": {
          "base_uri": "https://localhost:8080/"
        },
        "id": "BpHpJl0Ysftt",
        "outputId": "598f1cb1-d12f-4c98-f31a-05e2396526a5"
      },
      "source": [
        "df.head() #To give me the first five rows\n",
        "df.columns\n",
        "\n",
        "df['From '] #This will give all under 'From'\n",
        "df.columns[1] #This sentence will give \"New York\"\n",
        "df[df.columns[1]] # To access all data related to \"New-York\"\n",
        "\n",
        "df[df.columns[1]][0] # To access a certain value within a specific coloumn and specific row 9\n",
        "df[df.columns[3]][2] #To access the value 15\n",
        "#df.loc[0,2] #Access elements using integer index for rows and coloumns\n",
        "df.loc[1,'From ']\n",
        "df.loc[df[df.columns[1]]==12,df.columns[1]]\n",
        "#df.columns[df.columns['New York'].index:df.columns['Boston'].index]\n",
        "index_no = df.columns.get_loc('Boston')\n",
        "print (index_no)\n",
        "range(df.columns.get_loc('New York'),df.columns.get_loc('Boston'))\n"
      ],
      "execution_count": null,
      "outputs": [
        {
          "output_type": "stream",
          "name": "stdout",
          "text": [
            "4\n"
          ]
        },
        {
          "output_type": "execute_result",
          "data": {
            "text/plain": [
              "range(1, 4)"
            ]
          },
          "metadata": {},
          "execution_count": 12
        }
      ]
    },
    {
      "cell_type": "code",
      "metadata": {
        "id": "qbw6_CK0f6iL",
        "colab": {
          "base_uri": "https://localhost:8080/"
        },
        "outputId": "1214ecb2-acc1-4006-b374-6654dbd574d5"
      },
      "source": [
        "Source = {}\n",
        "for i in range (0,len (df)-1): #range (0,3):0,1,2\n",
        "    Source[df.iloc [i,0]]=df.iloc[i,-1]\n",
        "print (Source)\n",
        "\n",
        "\n",
        "Destination= {}\n",
        "for j in df.columns[1:-1]: #Exclusive of the last number, same as range\n",
        "   Destination[j]=df[j][3]\n",
        "\n",
        "Destination ={}\n",
        "for i in range(df.columns.get_loc('New York'),df.columns.get_loc('Boston')+1):\n",
        "  Destination[df.columns[i]] = df.iloc[-1,i]\n",
        "print (Destination)\n",
        "\n",
        "\n",
        "Transportation_Cost ={}\n",
        "for i in Source.keys():\n",
        "    Transportation_Cost[i]={j:df.loc[df['From ']==i,j].item()for j in Destination.keys()}\n",
        "\n",
        "print (Source)\n",
        "print (Destination)\n",
        "print (Transportation_Cost)"
      ],
      "execution_count": null,
      "outputs": [
        {
          "output_type": "stream",
          "name": "stdout",
          "text": [
            "{'Tampa': 200.0, 'Miami ': 200.0, 'Fresno': 200.0}\n",
            "{'New York': 130, 'Philadelphia': 170, 'Chicago': 100, 'Boston': 150}\n",
            "{'Tampa': 200.0, 'Miami ': 200.0, 'Fresno': 200.0}\n",
            "{'New York': 130, 'Philadelphia': 170, 'Chicago': 100, 'Boston': 150}\n",
            "{'Tampa': {'New York': 9, 'Philadelphia': 14, 'Chicago': 12, 'Boston': 17}, 'Miami ': {'New York': 11, 'Philadelphia': 10, 'Chicago': 6, 'Boston': 10}, 'Fresno': {'New York': 12, 'Philadelphia': 8, 'Chicago': 15, 'Boston': 7}}\n"
          ]
        }
      ]
    },
    {
      "cell_type": "code",
      "metadata": {
        "id": "fiTeKSD77RnW",
        "colab": {
          "base_uri": "https://localhost:8080/"
        },
        "outputId": "1fdc03e6-0372-4987-b2c0-8ba2e8a2535d"
      },
      "source": [
        "# My way of defining the parameters of the problem statemnet\n",
        "#WE ARE UTILIZING PANDAS\n",
        "Source= {}\n",
        "for i in range (0,len (df)-1):\n",
        "  Source [df.loc[i,'From ']]=df.loc[i,'Supply']\n",
        "\n",
        "print (Source)\n",
        "\n",
        "\n",
        "Destination = {}\n",
        "for i in range(df.columns.get_loc('New York'),df.columns.get_loc('Boston')+1):\n",
        "  Destination [df.columns[i]]=df.iloc[-1,i]\n",
        "\n",
        "print (Destination)\n",
        "\n",
        "Transportaion_cost ={}\n",
        "for i in Source.keys():\n",
        "  Transportaion_cost[i]={j:df.loc[df['From ']==i,j].item()for j in Destination.keys()}\n",
        "\n",
        "print (Transportaion_cost )\n",
        "\n",
        "\n",
        "\n"
      ],
      "execution_count": null,
      "outputs": [
        {
          "output_type": "stream",
          "name": "stdout",
          "text": [
            "{'Tampa': 200.0, 'Miami ': 200.0, 'Fresno': 200.0}\n",
            "{'New York': 130, 'Philadelphia': 170, 'Chicago': 100, 'Boston': 150}\n",
            "{'Tampa': {'New York': 9, 'Philadelphia': 14, 'Chicago': 12, 'Boston': 17}, 'Miami ': {'New York': 11, 'Philadelphia': 10, 'Chicago': 6, 'Boston': 10}, 'Fresno': {'New York': 12, 'Philadelphia': 8, 'Chicago': 15, 'Boston': 7}}\n"
          ]
        }
      ]
    },
    {
      "cell_type": "code",
      "metadata": {
        "id": "JinPPEw-hEKC"
      },
      "source": [
        "# First impot the Model class from docplex.mp\n",
        "from docplex.mp.model import Model"
      ],
      "execution_count": null,
      "outputs": []
    },
    {
      "cell_type": "code",
      "metadata": {
        "id": "0IJJecSLhE-a"
      },
      "source": [
        "# Create one model instance, with a name\n",
        "m = Model (name=\"Reading_From_Excel\")"
      ],
      "execution_count": null,
      "outputs": []
    },
    {
      "cell_type": "code",
      "metadata": {
        "id": "MBbxmiMB9Ybu"
      },
      "source": [
        "Source = {'Tampa': 200.0, 'Miami ': 200.0, 'Fresno': 200.0}\n",
        "Destination = {'New York': 130, 'Philadelphia': 170, 'Chicago': 100, 'Boston': 150}\n",
        "Transportaion_cost = {'Tampa': {'New York': 9, 'Philadelphia': 14, 'Chicago': 12, 'Boston': 17},\n",
        "                      'Miami ': {'New York': 11, 'Philadelphia': 10, 'Chicago': 6, 'Boston': 10},\n",
        "                      'Fresno': {'New York': 12, 'Philadelphia': 8, 'Chicago': 15, 'Boston': 7}}"
      ],
      "execution_count": null,
      "outputs": []
    },
    {
      "cell_type": "code",
      "metadata": {
        "colab": {
          "base_uri": "https://localhost:8080/"
        },
        "id": "LahPP8f2H9zo",
        "outputId": "8c52aec4-e7fa-469d-e9ad-6c6a4ec67c74"
      },
      "source": [
        "Source.values()\n",
        "sum(Source.values())"
      ],
      "execution_count": null,
      "outputs": [
        {
          "output_type": "execute_result",
          "data": {
            "text/plain": [
              "600.0"
            ]
          },
          "metadata": {},
          "execution_count": 18
        }
      ]
    },
    {
      "cell_type": "code",
      "metadata": {
        "id": "qkUFkcDmgt_7"
      },
      "source": [
        "#Method_1\n",
        "Quantity = m.continuous_var_dict([(i,j) for i in Source.keys()\n",
        "                                                    for j in Destination.keys()],lb=0,ub=None,name=\" Quantity shipped \")\n"
      ],
      "execution_count": null,
      "outputs": []
    },
    {
      "cell_type": "code",
      "metadata": {
        "id": "QPCI9cMR-CGU"
      },
      "source": [
        "#Method_2\n",
        "Quantity= {(i,j): m.continuous_var(lb= 0, ub= None, name='Quantity shipped from source {0} to destination {1}'.format(i,j))for i in Source.keys()\n",
        "                                                    for j in Destination.keys() }"
      ],
      "execution_count": null,
      "outputs": []
    },
    {
      "cell_type": "code",
      "metadata": {
        "id": "_lkdjmloh4Kt"
      },
      "source": [
        "m.minimize (m.sum(Transportaion_cost[i][j]*Quantity[(i,j)] for i in Source.keys() for j in Destination.keys()))"
      ],
      "execution_count": null,
      "outputs": []
    },
    {
      "cell_type": "code",
      "metadata": {
        "id": "TT64INFT93A-"
      },
      "source": [
        "#This is a wrong way of defining the objective function\n",
        "#Looping will result in set of independent sentences\n",
        "#You have to define one expression within the objective\n",
        "\"\"\"for i in Source.keys():\n",
        "  for j in Destination.keys():\n",
        "    m.minimize(m.sum(Transportaion_cost[i][j]*Quantity[(i,j)]))\"\"\""
      ],
      "execution_count": null,
      "outputs": []
    },
    {
      "cell_type": "code",
      "metadata": {
        "id": "aY6rHVE08bq-"
      },
      "source": [
        "if sum(Source.values()) > sum(Destination.values()):\n",
        "  for i in Source:\n",
        "    m.add_constraint_(m.sum(Quantity[(i,j)] for j in Destination) <= Source[i])\n",
        "  for j in Destination:\n",
        "    m.add_constraint_(m.sum(Quantity[(i,j)] for i in Source) == Destination[j])\n",
        "elif sum(Source.values()) < sum(Destination.values()):\n",
        "  for i in Source:\n",
        "    m.add_constraint_(m.sum(Quantity[(i,j)] for j in Destination) == Source[i])\n",
        "  for j in Destination:\n",
        "    m.add_constraint_(m.sum(Quantity[(i,j)] for i in Source) <= Destination [j])\n",
        "else:\n",
        "  for i in Source:\n",
        "    m.add_constraint_(m.sum(Quantity[(i,j)] for j in Destination) == Source[i])\n",
        "  for j in Destination:\n",
        "    m.add_constraint_(m.sum(Quantity[(i,j)] for i in Source) == Destination [j])\n",
        "\n",
        "\n",
        "m.add_constraint_(Quantity[('Miami ','Chicago')] == 0)\n",
        "\n",
        "\n",
        "\n",
        "\n",
        "\n",
        "\n",
        "\n",
        "\n",
        "\n",
        "\n",
        "\n"
      ],
      "execution_count": null,
      "outputs": []
    },
    {
      "cell_type": "code",
      "metadata": {
        "id": "8USzf-1TeKO5"
      },
      "source": [
        "m.add_constraints_(m.sum(Quantity[(i,j)]for i in Source)>=Destination[j] for j in Destination)\n",
        "m.add_constraints_(m.sum(Quantity[(i,j)]for j in Destination)<=Source[i] for i in Source)"
      ],
      "execution_count": null,
      "outputs": []
    },
    {
      "cell_type": "code",
      "metadata": {
        "id": "v8qDXa-QnItr",
        "colab": {
          "base_uri": "https://localhost:8080/"
        },
        "outputId": "82003620-0abd-4004-8a86-84cd3df435b7"
      },
      "source": [
        "# Print the model information\n",
        "m.print_information()"
      ],
      "execution_count": null,
      "outputs": [
        {
          "output_type": "stream",
          "name": "stdout",
          "text": [
            "Model: Reading_From_Excel\n",
            " - number of variables: 24\n",
            "   - binary=0, integer=0, continuous=24\n",
            " - number of constraints: 30\n",
            "   - linear=30\n",
            " - parameters: defaults\n",
            " - objective: minimize\n",
            " - problem type is: LP\n"
          ]
        }
      ]
    },
    {
      "cell_type": "code",
      "metadata": {
        "id": "him3pKtLaPwK",
        "colab": {
          "base_uri": "https://localhost:8080/"
        },
        "outputId": "205e4f0a-e004-4b3d-dd82-1dbad0babf9f"
      },
      "source": [
        "m.print_information()\n",
        "# Solving the model\n",
        "m.solve(log_output=True)\n",
        "# printing solution\n",
        "\n",
        "# Solution status\n",
        "#print(m.solve_status)\n",
        "print(m.solve_details.status)\n",
        "\n",
        "m.print_solution()"
      ],
      "execution_count": null,
      "outputs": [
        {
          "output_type": "stream",
          "name": "stdout",
          "text": [
            "Model: Reading_From_Excel\n",
            " - number of variables: 24\n",
            "   - binary=0, integer=0, continuous=24\n",
            " - number of constraints: 30\n",
            "   - linear=30\n",
            " - parameters: defaults\n",
            " - objective: minimize\n",
            " - problem type is: LP\n",
            "Version identifier: 20.1.0.0 | 2020-11-11 | 9bedb6d68\n",
            "CPXPARAM_Read_DataCheck                          1\n",
            "Using devex.\n",
            "\n",
            "Iteration log . . .\n",
            "Iteration:     1    Objective     =          5420.000000\n",
            "optimal\n",
            "objective: 5080.000\n",
            "  \"Quantity shipped from source Tampa to destination New York\"=100.000\n",
            "  \"Quantity shipped from source Tampa to destination Chicago\"=100.000\n",
            "  \"Quantity shipped from source Miami  to destination New York\"=30.000\n",
            "  \"Quantity shipped from source Miami  to destination Philadelphia\"=120.000\n",
            "  \"Quantity shipped from source Fresno to destination Philadelphia\"=50.000\n",
            "  \"Quantity shipped from source Fresno to destination Boston\"=150.000\n"
          ]
        }
      ]
    },
    {
      "cell_type": "code",
      "metadata": {
        "id": "HPDW0cgjit55"
      },
      "source": [
        "m_dual = Model (name=\"Dual Transportaion Problem\")"
      ],
      "execution_count": null,
      "outputs": []
    },
    {
      "cell_type": "code",
      "metadata": {
        "id": "Uzf4SOA9S9Ax"
      },
      "source": [
        "# Dual Version of The Transporation Problem\n",
        "# Dual Decison Variabels\n",
        "U_i = m_dual.continuous_var_dict (Source.keys(), name=\"Supply Dual Variabels\")\n",
        "V_j = m_dual.continuous_var_dict (Destination.keys(), name=\"Demand Dual Variabels\")"
      ],
      "execution_count": null,
      "outputs": []
    },
    {
      "cell_type": "code",
      "metadata": {
        "id": "7Eebj7KfUa3Q"
      },
      "source": [
        "# Dual Objective Function\n",
        "m_dual.maximize(m.sum(Source[i]*U_i[i]for i in Source.keys()) + m.sum(Destination[j]*V_j[j] for j in Destination.keys()))"
      ],
      "execution_count": null,
      "outputs": []
    },
    {
      "cell_type": "code",
      "metadata": {
        "id": "_a0Pt0SbWhWn"
      },
      "source": [
        "# Dual Constarints\n",
        "m_dual.add_constraints_(U_i [i]+ V_j[j]<= Transportation_Cost[i][j] for i in Source.keys() for j in Destination.keys())\n",
        "m_dual.add_constraints_(U_i[i]<= 0 for i in Source.keys())\n",
        "m_dual.add_constraints_(V_j[j]>= 0 for j in Destination.keys())"
      ],
      "execution_count": null,
      "outputs": []
    },
    {
      "cell_type": "code",
      "metadata": {
        "colab": {
          "base_uri": "https://localhost:8080/"
        },
        "id": "vHp0okHKW_NR",
        "outputId": "5e7f015c-7618-4600-f002-757081f4b8f0"
      },
      "source": [
        "# Print the model information\n",
        "m_dual.print_information()"
      ],
      "execution_count": null,
      "outputs": [
        {
          "output_type": "stream",
          "name": "stdout",
          "text": [
            "Model: Dual Transportaion Problem\n",
            " - number of variables: 7\n",
            "   - binary=0, integer=0, continuous=7\n",
            " - number of constraints: 19\n",
            "   - linear=19\n",
            " - parameters: defaults\n",
            " - objective: maximize\n",
            " - problem type is: LP\n"
          ]
        }
      ]
    },
    {
      "cell_type": "code",
      "metadata": {
        "colab": {
          "base_uri": "https://localhost:8080/"
        },
        "id": "qcj2-UVGXAE3",
        "outputId": "94d51e57-8de0-4563-db15-8a46a93297ee"
      },
      "source": [
        "m_dual.print_information()\n",
        "# Solving the model\n",
        "m_dual.solve(log_output=True)\n",
        "# printing solution\n",
        "\n",
        "# Solution status\n",
        "print(m_dual.solve_status)\n",
        "print(m_dual.solve_details.status)\n",
        "\n",
        "m_dual.print_solution()"
      ],
      "execution_count": null,
      "outputs": [
        {
          "output_type": "stream",
          "name": "stdout",
          "text": [
            "Model: Dual Transportaion Problem\n",
            " - number of variables: 7\n",
            "   - binary=0, integer=0, continuous=7\n",
            " - number of constraints: 19\n",
            "   - linear=19\n",
            " - parameters: defaults\n",
            " - objective: maximize\n",
            " - problem type is: LP\n",
            "Version identifier: 20.1.0.0 | 2020-11-11 | 9bedb6d68\n",
            "CPXPARAM_Read_DataCheck                          1\n",
            "Tried aggregator 1 time.\n",
            "LP Presolve eliminated 19 rows and 7 columns.\n",
            "All rows and columns eliminated.\n",
            "Presolve time = 0.00 sec. (0.01 ticks)\n",
            "JobSolveStatus.OPTIMAL_SOLUTION\n",
            "optimal\n",
            "objective: 4180.000\n",
            "  \"Demand Dual Variabels_New York\"=9.000\n",
            "  \"Demand Dual Variabels_Philadelphia\"=8.000\n",
            "  \"Demand Dual Variabels_Chicago\"=6.000\n",
            "  \"Demand Dual Variabels_Boston\"=7.000\n"
          ]
        }
      ]
    }
  ]
}
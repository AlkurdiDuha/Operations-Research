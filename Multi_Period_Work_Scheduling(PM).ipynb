{
  "nbformat": 4,
  "nbformat_minor": 0,
  "metadata": {
    "colab": {
      "provenance": []
    },
    "kernelspec": {
      "display_name": "Python 3",
      "name": "python3"
    },
    "language_info": {
      "name": "python"
    }
  },
  "cells": [
    {
      "cell_type": "markdown",
      "metadata": {
        "id": "ubLp25wM2AkL"
      },
      "source": [
        "# CHAPTER 4 LINEAR PROGRAMMING: MODELING EXAMPLES\n",
        "**Introduction_to_Management_Science**\\\n",
        "**Page 137**\n",
        "\n",
        "##Parameters Definition\n",
        "* $I$: The set of weeks needed to be scheduled , \\{1,2,3,4,5,6\\}\n",
        "* $CO_i \\equiv $ Computers orders for week  $i$, $i\\in I$.\n",
        "\n",
        "##Decision Variables\n",
        "\\begin{align*}\n",
        "    r_i & \\equiv \\text{ regular production of computers per week i (i = 1, 2, 3, 4, 5, 6)} \\\\\n",
        "    o_i & \\equiv \\text{ overtime production of computers per week i (i = 1, 2, 3, 4, 5, 6)}\\\\\n",
        "    i_j& \\equiv \\text{extra computers carried over as inventory in week j (j = 1, 2, 3, 4, 5)}\n",
        "\\end{align*}\n",
        "\n",
        "##Linear Programme\n",
        "\\begin{align*}\n",
        "    \\min \\hspace{10pt} & 190  \\sum_{i \\in I} r_i+260  \\sum_{i \\in I} o_i +10  \\sum_{i \\in I} i_i\\\\\n",
        "    \\text{s.t.} \\hspace{7pt}\n",
        "    & r_i \\le 160 & \\forall i \\in I\\\\\n",
        "    & o_i \\le 50 & \\forall i \\in I\\\\\n",
        "    & r_i + o_i+ i_{i-1} -i_i =CO_i & \\forall i \\in I- {1,6}\\\\\n",
        "    & r_1 + o_1-i_1 =105\\\\\n",
        "    & r_6+ o_6+i_5 =250\\\\\n",
        "    & r_i, o_i, i_i\\ge 0 & \\forall i \\in I\\\\\n",
        "  \\end{align*}\n"
      ]
    },
    {
      "cell_type": "code",
      "metadata": {
        "colab": {
          "base_uri": "https://localhost:8080/"
        },
        "id": "T85FM9uU8BgH",
        "outputId": "4fe184c2-1190-4a3a-fb6e-428ad5738cba"
      },
      "source": [
        "!pip install cplex\n",
        "!pip install docplex\n"
      ],
      "execution_count": null,
      "outputs": [
        {
          "output_type": "stream",
          "name": "stdout",
          "text": [
            "Collecting cplex\n",
            "  Downloading cplex-22.1.0.0-cp37-cp37m-manylinux1_x86_64.whl (43.3 MB)\n",
            "\u001b[K     |████████████████████████████████| 43.3 MB 1.2 MB/s \n",
            "\u001b[?25hInstalling collected packages: cplex\n",
            "Successfully installed cplex-22.1.0.0\n",
            "Collecting docplex\n",
            "  Downloading docplex-2.23.222.tar.gz (610 kB)\n",
            "\u001b[K     |████████████████████████████████| 610 kB 13.9 MB/s \n",
            "\u001b[?25hRequirement already satisfied: six in /usr/local/lib/python3.7/dist-packages (from docplex) (1.15.0)\n",
            "Building wheels for collected packages: docplex\n",
            "  Building wheel for docplex (setup.py) ... \u001b[?25l\u001b[?25hdone\n",
            "  Created wheel for docplex: filename=docplex-2.23.222-py3-none-any.whl size=662847 sha256=ce91231a7b7ebda1cc94f40f9fd420c98deea59abd8b83e4e3c522c98e222143\n",
            "  Stored in directory: /root/.cache/pip/wheels/a7/c9/fb/cee5a89f304e77a39c466e625ac2830434b76eb8384999d116\n",
            "Successfully built docplex\n",
            "Installing collected packages: docplex\n",
            "Successfully installed docplex-2.23.222\n"
          ]
        }
      ]
    },
    {
      "cell_type": "code",
      "source": [
        "# Two index decison variable\n"
      ],
      "metadata": {
        "id": "k-FHb5uLbdqo"
      },
      "execution_count": null,
      "outputs": []
    },
    {
      "cell_type": "code",
      "metadata": {
        "id": "jRN0_Ev48MkG"
      },
      "source": [
        "# First impot the Model class from docplex.mp\n",
        "from docplex.mp.model import Model"
      ],
      "execution_count": null,
      "outputs": []
    },
    {
      "cell_type": "code",
      "metadata": {
        "id": "URKwjSkG8Nd4"
      },
      "source": [
        "# Create one model instance, with a name\n",
        "m = Model (name=\"Multi_Period_Work_Scheduling\")"
      ],
      "execution_count": null,
      "outputs": []
    },
    {
      "cell_type": "code",
      "metadata": {
        "id": "PmYH_9Ex8yFW"
      },
      "source": [
        "# Defining the parametrs of the problem statement\n",
        "#Weeks = ['Week_1','Week_2','Week_3','Week_4','Week_5','Week_6']\n",
        "Computers_Orders= {1: 105,\n",
        "                   2: 170,\n",
        "                   3: 230,\n",
        "                   4: 180,\n",
        "                   5: 150,\n",
        "                   6: 250\n",
        "                   }\n",
        "Unit_Regualr_Production_Cost = 190\n",
        "Unit_Over_Time_Production_Cost = 260\n",
        "Unit_Holding_Cost = 10\n",
        "Capacity_Regualr_Time = 160\n",
        "Capacity_Over_Time = 50\n",
        "#I_0 = 0\n",
        "#I_f= 0\n",
        "\n",
        "#List_Keys= Computers_Orders.keys()\n",
        "#Computers_Orders.keys().index(\"Week_1\")"
      ],
      "execution_count": null,
      "outputs": []
    },
    {
      "cell_type": "code",
      "metadata": {
        "id": "z2aLmgCECDZ3"
      },
      "source": [
        "# Defining the decison variabels of the problem\n",
        "Regular_Production  = m.continuous_var_dict(Computers_Orders.keys(),lb=0,ub=None,name=\" Reular Production of Computers Per Week  %s\")\n",
        "Over_Time_Production  = m.continuous_var_dict(Computers_Orders.keys(),lb=0,ub=None,name=\" Over_Time Production of Computers Per Week  %s\")\n",
        "#Inventory_Carried_Over= m.continuous_var_dict( for i in Weeks if i != 6,lb=0,ub=None,name=\" Extra Computers Carried Over as Inventory in week %s\")\n",
        "Inventory_Carried_Over= m.continuous_var_dict([i for i in range(0,len(Computers_Orders.keys())+1)] ,lb=0,ub=None,name=\" Extra Computers Carried Over as Inventory in week %s\")\n",
        "\n"
      ],
      "execution_count": null,
      "outputs": []
    },
    {
      "cell_type": "code",
      "metadata": {
        "id": "bDSbnWbCEPkG"
      },
      "source": [
        "# Defining the objective function of the problem\n",
        "Regular_Time_Cost = m.sum(Unit_Regualr_Production_Cost*Regular_Production[i] for i in Computers_Orders.keys())\n",
        "Over_Time_Cost = m.sum(Unit_Over_Time_Production_Cost*Over_Time_Production [i] for i in Computers_Orders.keys())\n",
        "Holding_Cost = m.sum(Unit_Holding_Cost*Inventory_Carried_Over [i] for i in range (1,7))\n",
        "Total_Cost = Regular_Time_Cost+Over_Time_Cost+ Holding_Cost\n",
        "m.minimize(Total_Cost)\n",
        "#m.minimize (m.sum((Regular_Production[i]*190)+ (Over_Time_Production [i] *260)  for i in Computers_Orders.keys()) +m.sum(Inventory_Carried_Over [i]*10 for i in range (1,6)))"
      ],
      "execution_count": null,
      "outputs": []
    },
    {
      "cell_type": "code",
      "metadata": {
        "id": "2ZzzzwCpE0-Y"
      },
      "source": [
        "# Defining the constraints of the problem\n",
        "m.add_constraints_(Regular_Production [i]<= Capacity_Regualr_Time for i in Computers_Orders.keys())\n",
        "\n",
        "m.add_constraints_(Over_Time_Production [i]<= Capacity_Over_Time for i in Computers_Orders.keys())\n",
        "\n",
        "m.add_constraints_(Regular_Production [i] +Over_Time_Production [i] +Inventory_Carried_Over[i-1]- Inventory_Carried_Over[i] ==Computers_Orders[i] for i in range (2,6) )\n",
        "\n",
        "\n",
        "# Each two consecutive  out of the following four constraints are the same\n",
        "m.add_constraint_(Regular_Production [1] +Over_Time_Production [1]  - Inventory_Carried_Over[1] == Computers_Orders[1])\n",
        "\n",
        "m.add_constraint_(Regular_Production [6] +Over_Time_Production [6]  +  Inventory_Carried_Over[5] == Computers_Orders[6])\n",
        "\n",
        "#m.add_constraint(Inventory_Carried_Over[0]==I_0)\n",
        "\n",
        "#m.add_constraint_(Inventory_Carried_Over[len(Computers_Orders.keys())]==I_f)\n"
      ],
      "execution_count": null,
      "outputs": []
    },
    {
      "cell_type": "code",
      "metadata": {
        "id": "_yfTXfUSHxym",
        "colab": {
          "base_uri": "https://localhost:8080/"
        },
        "outputId": "299b461c-e534-4a6a-9559-39046180ce44"
      },
      "source": [
        "# Print the model information\n",
        "m.print_information()"
      ],
      "execution_count": null,
      "outputs": [
        {
          "output_type": "stream",
          "name": "stdout",
          "text": [
            "Model: Multi_Period_Work_Scheduling\n",
            " - number of variables: 19\n",
            "   - binary=0, integer=0, continuous=19\n",
            " - number of constraints: 18\n",
            "   - linear=18\n",
            " - parameters: defaults\n",
            " - objective: minimize\n",
            " - problem type is: LP\n"
          ]
        }
      ]
    },
    {
      "cell_type": "code",
      "metadata": {
        "id": "aLbidM8vHynN",
        "colab": {
          "base_uri": "https://localhost:8080/"
        },
        "outputId": "ca2d5f96-79af-4d60-ba10-0e1ee208b380"
      },
      "source": [
        "# Solving the model and getting the results\n",
        "m.solve (log_output =True)\n",
        "\n",
        "print (m.solve_details.status)\n",
        "\n",
        "m.print_solution()"
      ],
      "execution_count": null,
      "outputs": [
        {
          "output_type": "stream",
          "name": "stdout",
          "text": [
            "Version identifier: 20.1.0.0 | 2020-11-11 | 9bedb6d68\n",
            "CPXPARAM_Read_DataCheck                          1\n",
            "Tried aggregator 1 time.\n",
            "LP Presolve eliminated 12 rows and 2 columns.\n",
            "Aggregator did 2 substitutions.\n",
            "Reduced LP has 4 rows, 15 columns, and 18 nonzeros.\n",
            "Presolve time = 0.01 sec. (0.02 ticks)\n",
            "Initializing dual steep norms . . .\n",
            "\n",
            "Iteration log . . .\n",
            "Iteration:     1   Dual objective     =         10600.000000\n",
            "optimal\n",
            "objective: 216300.000\n",
            "  \" Reular Production of Computers Per Week  1\"=160.000\n",
            "  \" Reular Production of Computers Per Week  2\"=160.000\n",
            "  \" Reular Production of Computers Per Week  3\"=160.000\n",
            "  \" Reular Production of Computers Per Week  4\"=160.000\n",
            "  \" Reular Production of Computers Per Week  5\"=160.000\n",
            "  \" Reular Production of Computers Per Week  6\"=160.000\n",
            "  \" Over_Time Production of Computers Per Week  3\"=25.000\n",
            "  \" Over_Time Production of Computers Per Week  4\"=20.000\n",
            "  \" Over_Time Production of Computers Per Week  5\"=30.000\n",
            "  \" Over_Time Production of Computers Per Week  6\"=50.000\n",
            "  \" Extra Computers Carried Over as Inventory in week 1\"=55.000\n",
            "  \" Extra Computers Carried Over as Inventory in week 2\"=45.000\n",
            "  \" Extra Computers Carried Over as Inventory in week 5\"=40.000\n"
          ]
        }
      ]
    }
  ]
}